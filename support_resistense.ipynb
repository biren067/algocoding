{
  "nbformat": 4,
  "nbformat_minor": 0,
  "metadata": {
    "colab": {
      "provenance": [],
      "authorship_tag": "ABX9TyMk18jgWO6kd6mDsNrdtbI4",
      "include_colab_link": true
    },
    "kernelspec": {
      "name": "python3",
      "display_name": "Python 3"
    },
    "language_info": {
      "name": "python"
    }
  },
  "cells": [
    {
      "cell_type": "markdown",
      "metadata": {
        "id": "view-in-github",
        "colab_type": "text"
      },
      "source": [
        "<a href=\"https://colab.research.google.com/github/biren067/algocoding/blob/main/support_resistense.ipynb\" target=\"_parent\"><img src=\"https://colab.research.google.com/assets/colab-badge.svg\" alt=\"Open In Colab\"/></a>"
      ]
    },
    {
      "cell_type": "code",
      "execution_count": 1,
      "metadata": {
        "colab": {
          "base_uri": "https://localhost:8080/"
        },
        "id": "CQR_Hkre8A27",
        "outputId": "4d56227d-d249-42ba-e4b8-124c800c94c9"
      },
      "outputs": [
        {
          "output_type": "stream",
          "name": "stdout",
          "text": [
            "https://api-t1.fyers.in/api/v3/generate-authcode?client_id=DLR9YW5108-100&redirect_uri=https%3A%2F%2Fwww.google.com%2F&response_type=code&state=None\n"
          ]
        }
      ],
      "source": [
        "import pandas as pd\n",
        "import numpy as np\n",
        "# import pandas_ta as ta\n",
        "from fyers_apiv3 import fyersModel\n",
        "import requests\n",
        "client_id = \"DLR9YW5108-100\"\n",
        "secret_key = \"RBXZDAR695\"\n",
        "redirect_uri = \"https://www.google.com/\"\n",
        "response_type = \"code\"\n",
        "state = \"sample_state\"\n",
        "grant_type = \"authorization_code\"\n",
        "\n",
        "session = fyersModel.SessionModel(\n",
        "    client_id=client_id,\n",
        "    secret_key=secret_key,\n",
        "    redirect_uri=redirect_uri,\n",
        "    response_type=response_type\n",
        ")\n",
        "\n",
        "auth_url = session.generate_authcode()\n",
        "\n",
        "print(auth_url)\n"
      ]
    },
    {
      "cell_type": "code",
      "source": [
        "return_auth_code = \"https://www.google.com/?s=ok&code=200&auth_code=eyJhbGciOiJIUzI1NiIsInR5cCI6IkpXVCJ9.eyJhcHBfaWQiOiJETFI5WVc1MTA4IiwidXVpZCI6IjMyYWNiYWJmYTE5ZTRiNjFhNGEwM2FjMWQyYzc1Mjk2IiwiaXBBZGRyIjoiIiwibm9uY2UiOiIiLCJzY29wZSI6IiIsImRpc3BsYXlfbmFtZSI6IlhCMDgyNDciLCJvbXMiOiJLMSIsImhzbV9rZXkiOiIwOTM4ZTU2MzQ2NTliYTljMzg5MTMyYmE3OWMwYjcxMTg1YTRiNDlhZjIwMjI2YzNmNWFhMDcxNSIsImlzRGRwaUVuYWJsZWQiOiJOIiwiaXNNdGZFbmFibGVkIjoiTiIsImF1ZCI6IltcImQ6MVwiLFwiZDoyXCIsXCJ4OjBcIixcIng6MVwiLFwieDoyXCJdIiwiZXhwIjoxNzQzNzE4NjQ5LCJpYXQiOjE3NDM2ODg2NDksImlzcyI6ImFwaS5sb2dpbi5meWVycy5pbiIsIm5iZiI6MTc0MzY4ODY0OSwic3ViIjoiYXV0aF9jb2RlIn0.1GD04HGznkezTFpddlcQGYCBBByhfLBuEOROy_IT8Go&state=None\"\n",
        "\n",
        "auth_code = return_auth_code.split(\"auth_code=\")[1].split(\"&state\")[0]\n",
        "session = fyersModel.SessionModel(\n",
        "    client_id=client_id,\n",
        "    secret_key=secret_key,\n",
        "    redirect_uri=redirect_uri,\n",
        "    response_type=response_type,\n",
        "    grant_type=grant_type\n",
        ")\n",
        "\n",
        "session.set_token(auth_code)\n",
        "response = session.generate_token()\n",
        "\n",
        "access_token = response['access_token']\n",
        "fyers = fyersModel.FyersModel(client_id=client_id, is_async=False, token=access_token, log_path=\"\")\n",
        "response = fyers.get_profile()\n",
        "print(response)"
      ],
      "metadata": {
        "colab": {
          "base_uri": "https://localhost:8080/"
        },
        "id": "h5P1FdaO8DYq",
        "outputId": "e8458b9a-43f8-4d8e-c4fc-b61e7c698675"
      },
      "execution_count": 2,
      "outputs": [
        {
          "output_type": "stream",
          "name": "stdout",
          "text": [
            "{'s': 'ok', 'code': 200, 'message': '', 'data': {'fy_id': 'XB08247', 'name': 'BIRENDRA KUMAR', 'image': None, 'display_name': None, 'pin_change_date': '21-11-2022 10:11:45', 'email_id': 'birendrabitian@gmail.com', 'pwd_change_date': '18-02-2022 11:33:00', 'PAN': '---------', 'mobile_number': '8540893010', 'totp': False, 'pwd_to_expire': -990, 'ddpi_enabled': False, 'mtf_enabled': False}}\n"
          ]
        }
      ]
    },
    {
      "cell_type": "code",
      "source": [],
      "metadata": {
        "id": "dSdBntWs8JT9"
      },
      "execution_count": 2,
      "outputs": []
    },
    {
      "cell_type": "code",
      "source": [],
      "metadata": {
        "id": "bb1zS2FH8NZm"
      },
      "execution_count": null,
      "outputs": []
    }
  ]
}